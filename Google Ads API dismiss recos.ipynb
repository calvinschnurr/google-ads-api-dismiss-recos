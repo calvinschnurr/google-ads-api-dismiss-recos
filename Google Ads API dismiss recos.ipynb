{
 "cells": [
  {
   "cell_type": "code",
   "execution_count": null,
   "id": "45ef3391",
   "metadata": {
    "collapsed": true,
    "jupyter": {
     "outputs_hidden": true
    }
   },
   "outputs": [],
   "source": [
    "pip install google-auth google-auth-oauthlib google-auth-httplib2 googleads"
   ]
  },
  {
   "cell_type": "code",
   "execution_count": 2,
   "id": "774b7caf",
   "metadata": {
    "collapsed": true,
    "jupyter": {
     "outputs_hidden": true
    }
   },
   "outputs": [],
   "source": [
    "import json\n",
    "import os\n",
    "import google.auth\n",
    "from google.auth.transport.requests import Request\n",
    "from google.oauth2.credentials import Credentials\n",
    "from google_auth_oauthlib.flow import InstalledAppFlow\n",
    "\n",
    "# Define the scopes required by the Google Ads API\n",
    "SCOPES = ['https://www.googleapis.com/auth/adwords']\n",
    "\n",
    "# Load client secrets JSON file\n",
    "CLIENT_SECRETS_FILE = 'client_secrets.json'\n",
    "\n",
    "# Define the token file where the access and refresh tokens will be stored\n",
    "TOKEN_FILE = 'token.json'\n",
    "\n",
    "# Function to handle OAuth2 flow\n",
    "def get_credentials():\n",
    "    creds = None\n",
    "\n",
    "    # Check if token already exists\n",
    "    if os.path.exists(TOKEN_FILE):\n",
    "        creds = Credentials.from_authorized_user_file(TOKEN_FILE, SCOPES)\n",
    "\n",
    "    # If no valid credentials, start the OAuth2 flow\n",
    "    if not creds or not creds.valid:\n",
    "        if creds and creds.expired and creds.refresh_token:\n",
    "            creds.refresh(Request())\n",
    "        else:\n",
    "            flow = InstalledAppFlow.from_client_secrets_file(CLIENT_SECRETS_FILE, SCOPES)\n",
    "            creds = flow.run_local_server(port=0)\n",
    "\n",
    "        # Save the credentials for future use\n",
    "        with open(TOKEN_FILE, 'w') as token:\n",
    "            token.write(creds.to_json())\n",
    "\n",
    "    return creds\n",
    "\n",
    "# Get credentials\n",
    "credentials = get_credentials()\n",
    "\n",
    "# Now you can use these credentials to make requests to the Google Ads API"
   ]
  },
  {
   "cell_type": "code",
   "execution_count": null,
   "id": "d9f474cb-9bb2-451b-92ef-4260ec9dd2b6",
   "metadata": {
    "collapsed": true,
    "jupyter": {
     "outputs_hidden": true
    }
   },
   "outputs": [],
   "source": [
    "!pip install google-ads"
   ]
  },
  {
   "cell_type": "code",
   "execution_count": 5,
   "id": "df5a17da-b012-474c-a010-39c5257e4c12",
   "metadata": {
    "collapsed": true,
    "jupyter": {
     "outputs_hidden": true
    }
   },
   "outputs": [],
   "source": [
    "from google.ads.googleads.client import GoogleAdsClient\n",
    "from google.ads.googleads.errors import GoogleAdsException\n",
    "import os\n",
    "\n",
    "# Set the path to your google-ads.yaml file\n",
    "os.environ['GOOGLE_ADS_CONFIGURATION_FILE_PATH'] = 'google-ads.yaml'\n",
    "\n",
    "# Create a GoogleAdsClient instance\n",
    "client = GoogleAdsClient.load_from_storage()"
   ]
  },
  {
   "cell_type": "code",
   "execution_count": null,
   "id": "dc9f5c13-90e2-4c19-bfd1-920c1f7771bc",
   "metadata": {
    "collapsed": true,
    "jupyter": {
     "outputs_hidden": true
    }
   },
   "outputs": [],
   "source": [
    "# dismisses ALL recommendations that can be dismissed through the API (almost all)\n",
    "\n",
    "# Updated CIDs as requested\n",
    "customer_ids = [\n",
    "    '0000000000', '0000000000', '0000000000', '0000000000', '0000000000'\n",
    "]\n",
    "\n",
    "# Query to fetch recommendations\n",
    "query = \"\"\"\n",
    "    SELECT\n",
    "        recommendation.resource_name,\n",
    "        recommendation.type\n",
    "    FROM recommendation\n",
    "    WHERE recommendation.dismissed = false\n",
    "\"\"\"\n",
    "\n",
    "# Initialize services\n",
    "ga_service = client.get_service(\"GoogleAdsService\")\n",
    "recommendation_service = client.get_service(\"RecommendationService\")\n",
    "\n",
    "# Loop through each customer ID\n",
    "for customer_id in customer_ids:\n",
    "    print(f\"\\nProcessing Customer ID: {customer_id}\")\n",
    "    \n",
    "    try:\n",
    "        # Fetch recommendations\n",
    "        response = ga_service.search_stream(customer_id=customer_id, query=query)\n",
    "        \n",
    "        dismissed_count = 0\n",
    "        has_recommendations = False\n",
    "        \n",
    "        # Process and dismiss recommendations\n",
    "        for batch in response:\n",
    "            has_recommendations = True\n",
    "            for row in batch.results:\n",
    "                try:\n",
    "                    # Create dismiss operation\n",
    "                    dismiss_operation = client.get_type(\"DismissRecommendationRequest\")\n",
    "                    dismiss_operation.customer_id = customer_id\n",
    "                    dismiss_operation.operations = [{\n",
    "                        \"resource_name\": row.recommendation.resource_name\n",
    "                    }]\n",
    "                    \n",
    "                    # Execute dismiss\n",
    "                    result = recommendation_service.dismiss_recommendation(\n",
    "                        request=dismiss_operation\n",
    "                    )\n",
    "                    dismissed_count += 1\n",
    "                except Exception as e:\n",
    "                    print(f\"Error dismissing recommendation: {e}\")\n",
    "        \n",
    "        if not has_recommendations:\n",
    "            print(\"No recommendations found to dismiss\")\n",
    "        else:\n",
    "            print(f\"Total recommendations dismissed: {dismissed_count}\")\n",
    "            \n",
    "    except Exception as e:\n",
    "        print(f\"Error processing account: {e}\")"
   ]
  }
 ],
 "metadata": {
  "kernelspec": {
   "display_name": "Python 3 (ipykernel)",
   "language": "python",
   "name": "python3"
  },
  "language_info": {
   "codemirror_mode": {
    "name": "ipython",
    "version": 3
   },
   "file_extension": ".py",
   "mimetype": "text/x-python",
   "name": "python",
   "nbconvert_exporter": "python",
   "pygments_lexer": "ipython3",
   "version": "3.11.7"
  }
 },
 "nbformat": 4,
 "nbformat_minor": 5
}
